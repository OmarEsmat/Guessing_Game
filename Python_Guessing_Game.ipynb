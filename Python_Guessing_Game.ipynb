{
  "cells": [
    {
      "cell_type": "markdown",
      "metadata": {
        "id": "uoxLviEnS7OB"
      },
      "source": [
        "This Python Guessing Game is not only a fun exercise in programming logic but also a great way for beginners to practice working with if conditions, variables, and while loops. Users can repeatedly play the game, honing their skills and enjoying a simple yet engaging coding challenge.\n"
      ]
    },
    {
      "cell_type": "code",
      "execution_count": null,
      "metadata": {
        "id": "HGl2DrKOS62x"
      },
      "outputs": [],
      "source": [
        "secret_word = 'legend'\n",
        "guess=''\n",
        "guess_count = 0\n",
        "guess_limit = 3\n",
        "out_of_guesses = False"
      ]
    },
    {
      "cell_type": "code",
      "execution_count": null,
      "metadata": {
        "colab": {
          "base_uri": "https://localhost:8080/"
        },
        "id": "k7NOv1CArwXn",
        "outputId": "9f9d8fea-ff02-444a-d0ae-671232c4f6ae"
      },
      "outputs": [
        {
          "name": "stdout",
          "output_type": "stream",
          "text": [
            "enter guess: code\n",
            "enter guess: omar\n",
            "enter guess: legend\n"
          ]
        }
      ],
      "source": [
        "while guess != secret_word and not out_of_guesses:\n",
        "  if guess_count < guess_limit:\n",
        "    guess = input('enter guess: ')\n",
        "    guess_count+=1\n",
        "  else:\n",
        "    out_of_guesses = True\n"
      ]
    },
    {
      "cell_type": "code",
      "execution_count": null,
      "metadata": {
        "colab": {
          "base_uri": "https://localhost:8080/"
        },
        "id": "eM58TrAZdYYX",
        "outputId": "d19488eb-1409-41ae-8119-36d91417e004"
      },
      "outputs": [
        {
          "name": "stdout",
          "output_type": "stream",
          "text": [
            "you win\n"
          ]
        }
      ],
      "source": [
        "if out_of_guesses :\n",
        "  print('you lose out of guesses')\n",
        "else:\n",
        "  print('you win')"
      ]
    },
    {
      "cell_type": "code",
      "execution_count": null,
      "metadata": {
        "id": "Gz1Mn0DMWJse"
      },
      "outputs": [],
      "source": []
    }
  ],
  "metadata": {
    "colab": {
      "provenance": []
    },
    "kernelspec": {
      "display_name": "Python 3",
      "name": "python3"
    },
    "language_info": {
      "name": "python"
    }
  },
  "nbformat": 4,
  "nbformat_minor": 0
}
